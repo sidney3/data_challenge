{
 "cells": [
  {
   "cell_type": "code",
   "execution_count": 7,
   "id": "a61482b5-286f-413c-a8df-4c9e64580361",
   "metadata": {},
   "outputs": [
    {
     "data": {
      "text/plain": [
       "AAPL    3\n",
       "dtype: int64"
      ]
     },
     "execution_count": 7,
     "metadata": {},
     "output_type": "execute_result"
    }
   ],
   "source": [
    "import pandas as pd\n",
    "\n",
    "num_ticks = 100\n",
    "prices = range(num_ticks)\n",
    "\n",
    "\n",
    "s2 = pd.Series({\"AAPL\": 5})\n",
    "s1 = pd.Series({\"AAPL\": 4})\n",
    "\n",
    "\n",
    "3* (s2 - s1)"
   ]
  },
  {
   "cell_type": "code",
   "execution_count": null,
   "id": "1de7efcc-e195-43b5-b4e8-4a8756212f2a",
   "metadata": {},
   "outputs": [],
   "source": []
  }
 ],
 "metadata": {
  "kernelspec": {
   "display_name": "Python 3 (ipykernel)",
   "language": "python",
   "name": "python3"
  },
  "language_info": {
   "codemirror_mode": {
    "name": "ipython",
    "version": 3
   },
   "file_extension": ".py",
   "mimetype": "text/x-python",
   "name": "python",
   "nbconvert_exporter": "python",
   "pygments_lexer": "ipython3",
   "version": "3.9.18"
  }
 },
 "nbformat": 4,
 "nbformat_minor": 5
}
