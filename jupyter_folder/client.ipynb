{
 "cells": [
  {
   "cell_type": "markdown",
   "source": [
    "# Trading @ Georgia Tech Exchange Client"
   ],
   "metadata": {
    "id": "-rP1Ui7zDG3N"
   }
  },
  {
   "cell_type": "markdown",
   "source": [
    "## Constants"
   ],
   "metadata": {
    "id": "-Ot_KJU3DNrF"
   }
  },
  {
   "cell_type": "code",
   "source": [
    "# TODO: fill these constants\n",
    "USERNAME = \"\"\n",
    "API_KEY = \"\"\n",
    "\n",
    "# do not modify\n",
    "RATE_LIMIT = 15\n",
    "URI = 'ec2-3-16-107-184.us-east-2.compute.amazonaws.com'\n",
    "URL = f\"http://{URI}:8080\"\n",
    "WS_URL = f\"ws://{URI}:8080/exchange-socket\""
   ],
   "metadata": {
    "id": "6HooYAyCDPZv"
   },
   "execution_count": null,
   "outputs": []
  },
  {
   "cell_type": "markdown",
   "source": [
    "## Importing Dependencies"
   ],
   "metadata": {
    "id": "cLDXyMXdDeoK"
   }
  },
  {
   "cell_type": "code",
   "execution_count": null,
   "metadata": {
    "id": "aPebkEDNC6Wc"
   },
   "outputs": [],
   "source": [
    "\n",
    "!pip install sortedcontainers aiohttp websockets pandas numpy\n"
   ]
  },
  {
   "cell_type": "code",
   "execution_count": null,
   "metadata": {
    "id": "zRY4T_2mC6We"
   },
   "outputs": [],
   "source": [
    "\n",
    "from __future__ import annotations\n",
    "\n",
    "import aiohttp\n",
    "import asyncio\n",
    "import contextlib\n",
    "import copy\n",
    "import json\n",
    "import time\n",
    "import traceback\n",
    "import urllib.request\n",
    "from abc import ABC\n",
    "from abc import abstractmethod\n",
    "from collections import deque\n",
    "from dataclasses import dataclass\n",
    "from enum import Enum\n",
    "from typing import Any\n",
    "\n",
    "import nest_asyncio\n",
    "import websockets\n",
    "from sortedcontainers import SortedDict\n",
    "\n",
    "nest_asyncio.apply()\n",
    "\n",
    "import sys\n",
    "sys.path.append('./')\n",
    "from client_utils import *\n"
   ]
  },
  {
   "cell_type": "markdown",
   "source": [
    "## Strategy Implementation\n",
    "\n",
    "---\n",
    "\n",
    "### Instructions\n",
    "\n",
    "Implement your strategy here! There are 2 methods to override and place your strategy in:\n",
    "\n",
    "`on_orderbook_update` - an asynchronous method called whenever an orderbook update is received from the Exchange socket\n",
    "\n",
    "`on_portfolio_update` - an asynchronous method called whenever a user's portfolio updates on the Exchange\n",
    "\n",
    "---\n",
    "\n",
    "### Tools to Use\n",
    "\n",
    "These are functions you should be calling to implement your strategy. They give you actions to interact with the exchange, methods to get information about the orderbook, and methods to view your stock portfolio.\n",
    "\n",
    "* **Actions to Interact with Exchange**\n",
    "  - `asyncio.create_task(self._quoter.place_limit(ticker=_, volume=_, price=_, is_bid=_))` - method to place limit order on exchange\n",
    "  - `asyncio.create_task(self._quoter.place_market(ticker=_, volume=_, is_bid=_))` - method to place market order on exchange\n",
    "  - `asyncio.create_task(self._quoter.remove_all())` - method to remove all open orders on exchange; use the web UI to remove individual order\n",
    "* **Methods for Orderbook Information**\n",
    "  - `self.get_orderbooks()` - returns orderbook's internal representation. looks like this:\n",
    "  ```\n",
    "  orderbook = {\n",
    "            ticker1: {\n",
    "                \"bids\": sortedcontainers.SortedDict({price1: volume1, price2: volume2,...}, reverse=True),\n",
    "                \"asks\": sortedcontainers.SortedDict({{price1: volume1, price2: volume2,...}})\n",
    "            },\n",
    "            ticker2: {\n",
    "                \"bids\": sortedcontainers.SortedDict({price1: volume1, price2: volume2,...}, reverse=True),\n",
    "                \"asks\": sortedcontainers.SortedDict({{price1: volume1, price2: volume2,...}})\n",
    "            },\n",
    "            ...\n",
    "        }\n",
    "  ```\n",
    "\n",
    "  - `self.best_bid(ticker=_)` - returns a float representing the best bid for the specified ticker; WARNING: returns `None` if there are no bids\n",
    "  - `self.best_ask(ticker=_)` - returns a float representing the best ask for the specified ticker; WARNING: returns `None` if there are no asks\n",
    "  - `self.mid(ticker=_)` - returns a float representing the midpoint for the specified ticker; WARNING: returns `None` if there are 0 bids or 0 asks\n",
    "  - `self.wmid(ticker=_)` - returns a float representing the weighted midpoint for the specified ticker; WARNING: returns `None` if there are 0 bids or 0 asks\n",
    "  - `self.spread(ticker=_)` - returns a float representing the spread of the specified ticker; WARNING: returns `None` if there are 0 bids or 0 asks\n",
    "* **Methods for Portfolio Information**\n",
    "  - `self.get_positions()` - returns a representation of positions on each ticker. looks like this:\n",
    "  ```\n",
    "  {\n",
    "    \"ticker1\": volume1,\n",
    "    \"ticker2\": volume2,\n",
    "    ...\n",
    "  }\n",
    "  ```\n",
    "  - `self.get_orders()` - returns a representation of open orders. looks like this:\n",
    "  ```\n",
    "  {\n",
    "    \"ticker1\": [Order1, Order2, ...],\n",
    "    \"ticker2\": [Order1, Order2, ...],\n",
    "    ...\n",
    "  }\n",
    "  ```\n",
    "  - `self.get_balance()` - returns a float representing the balance\n",
    "  - `self.get_pnl()` - returns a float reprenseting the estimated PnL"
   ],
   "metadata": {
    "id": "QnA2M2ZIGm6S"
   }
  },
  {
   "cell_type": "code",
   "execution_count": null,
   "metadata": {
    "id": "R5Qz5uARC6Wj"
   },
   "outputs": [],
   "source": [
    "class TestStrategy(Strategy):\n",
    "    def __init__(self, quoter: Prioritizer, shared_state: SharedState):\n",
    "        super().__init__(quoter, shared_state)\n",
    "        self._cnt = 1\n",
    "\n",
    "    async def on_orderbook_update(self) -> None:\n",
    "        print(\"Orderbook update\", self._cnt, time.time())\n",
    "        # asyncio.create_task(self._quoter.remove_all())\n",
    "        asyncio.create_task(self._quoter.place_limit(ticker=\"A\", volume=1, price=50+self._cnt, is_bid=True))\n",
    "        asyncio.create_task(self._quoter.place_limit(ticker=\"A\", volume=1, price=950-self._cnt, is_bid=False))\n",
    "        #asyncio.create_task(self._quoter.remove_all())\n",
    "        # asyncio.create_task(self._quoter.place_market(ticker=\"A\", volume=1, is_bid=True))\n",
    "        # asyncio.create_task(self._quoter.place_market(ticker=\"A\", volume=1, is_bid=False))\n",
    "        self._cnt += 1\n",
    "\n",
    "    async def on_portfolio_update(self) -> None:\n",
    "        print(\"Portfolio update\", self._cnt, time.time())\n",
    "        print(self._shared_state.portfolio.positions)\n",
    "        pass"
   ]
  },
  {
   "cell_type": "markdown",
   "source": [
    "## Main Loop"
   ],
   "metadata": {
    "id": "tMtzhoueMdqJ"
   }
  },
  {
   "cell_type": "code",
   "execution_count": null,
   "metadata": {
    "id": "4w1PCZIyC6Wk"
   },
   "outputs": [],
   "source": [
    "async def start_strategy() -> None:\n",
    "    \"\"\"\n",
    "    Async method to start a strategy.\n",
    "    Returns: None\n",
    "\n",
    "    \"\"\"\n",
    "    client = TradingClient(\n",
    "        http_endpoint=URL,\n",
    "        ws_endpoint=WS_URL,\n",
    "        username=USERNAME,\n",
    "        api_key=API_KEY,\n",
    "    )\n",
    "    shared_state = client.shared_state\n",
    "    prioritizer = Prioritizer(rate_limit=RATE_LIMIT, trading_client=client)\n",
    "\n",
    "    strategy: Strategy = TestStrategy(quoter=prioritizer, shared_state=shared_state)\n",
    "\n",
    "    client.set_strategy(strategy=strategy)\n",
    "\n",
    "    await strategy.start()\n",
    "\n",
    "    await asyncio.sleep(1000000)\n",
    "\n",
    "\n",
    "async def main() -> None:\n",
    "    \"\"\"\n",
    "    Main async method for running all client tasks as asynchronous coroutines.\n",
    "    Returns: None\n",
    "\n",
    "    \"\"\"\n",
    "    tasks: list[asyncio.Task[None]] = [asyncio.create_task(start_strategy())]\n",
    "    try:\n",
    "        results = await asyncio.gather(\n",
    "            *tasks,\n",
    "            return_exceptions=True,\n",
    "        )\n",
    "        print(results)\n",
    "    except Exception as e:\n",
    "        print(\"Exception in main\", e)\n",
    "        traceback.print_exc()\n",
    "        for task in tasks:\n",
    "            task.cancel()\n",
    "        await asyncio.gather(*tasks, return_exceptions=True)\n",
    "\n",
    "\n",
    "if __name__ == \"__main__\":\n",
    "    asyncio.run(main())"
   ]
  }
 ],
 "metadata": {
  "colab": {
   "provenance": []
  },
  "language_info": {
   "name": "python"
  },
  "kernelspec": {
   "name": "python3",
   "display_name": "Python 3"
  }
 },
 "nbformat": 4,
 "nbformat_minor": 0
}
